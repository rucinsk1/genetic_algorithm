{
 "cells": [
  {
   "cell_type": "code",
   "execution_count": 1,
   "metadata": {},
   "outputs": [],
   "source": [
    "import random\n",
    "from algorithm import GeneticAlgorithm"
   ]
  },
  {
   "cell_type": "code",
   "execution_count": 3,
   "metadata": {},
   "outputs": [
    {
     "name": "stdout",
     "output_type": "stream",
     "text": [
      "####POINTS##########\n",
      "Point 0: (7,8), start time: 16, end time: 22\n",
      "Point 1: (4,2), start time: 6, end time: 10\n",
      "Point 2: (3,6), start time: 23, end time: 24\n",
      "Point 3: (6,4), start time: 14, end time: 21\n",
      "Point 4: (4,3), start time: 18, end time: 22\n",
      "Point 5: (7,8), start time: 13, end time: 23\n",
      "####################\n",
      "starting best 33.59524158061724\n"
     ]
    }
   ],
   "source": [
    "a = GeneticAlgorithm(\n",
    "    population_size=10,\n",
    "    iterations=10,\n",
    "    n_points=6,\n",
    "    area_size=10,\n",
    "    min_value=100\n",
    "    )\n",
    "a.run()"
   ]
  }
 ],
 "metadata": {
  "kernelspec": {
   "display_name": "Python 3.10.6 64-bit",
   "language": "python",
   "name": "python3"
  },
  "language_info": {
   "codemirror_mode": {
    "name": "ipython",
    "version": 3
   },
   "file_extension": ".py",
   "mimetype": "text/x-python",
   "name": "python",
   "nbconvert_exporter": "python",
   "pygments_lexer": "ipython3",
   "version": "3.10.6"
  },
  "orig_nbformat": 4,
  "vscode": {
   "interpreter": {
    "hash": "916dbcbb3f70747c44a77c7bcd40155683ae19c65e1c03b4aa3499c5328201f1"
   }
  }
 },
 "nbformat": 4,
 "nbformat_minor": 2
}
